{
  "nbformat": 4,
  "nbformat_minor": 0,
  "metadata": {
    "colab": {
      "provenance": [],
      "collapsed_sections": []
    },
    "kernelspec": {
      "name": "python3",
      "display_name": "Python 3"
    },
    "language_info": {
      "name": "python"
    }
  },
  "cells": [
    {
      "cell_type": "markdown",
      "source": [
        "##Object Length Dataframe"
      ],
      "metadata": {
        "id": "FBWz474CNWTo"
      }
    },
    {
      "cell_type": "markdown",
      "source": [],
      "metadata": {
        "id": "O-veNGFWNKDB"
      }
    },
    {
      "cell_type": "markdown",
      "source": [
        "Development Envrionment\n",
        "<br/>xml Parsing\n",
        "<br/>Object Length Calculation\n",
        "<br/>Detailed Class Polygon Dataframe\n",
        "<br/>Class Polygon Dataframe"
      ],
      "metadata": {
        "id": "eGfxt18GNemX"
      }
    },
    {
      "cell_type": "markdown",
      "source": [],
      "metadata": {
        "id": "d4uBqgZCNe_v"
      }
    },
    {
      "cell_type": "markdown",
      "source": [
        "#Development Envrionment"
      ],
      "metadata": {
        "id": "iL6fgoFdNjGQ"
      }
    },
    {
      "cell_type": "code",
      "execution_count": null,
      "metadata": {
        "id": "saQy-D29NJsh"
      },
      "outputs": [],
      "source": [
        "from google.colab import drive\n",
        "drive.mount('/content/drive')"
      ]
    },
    {
      "cell_type": "code",
      "source": [
        "import os\n",
        "import cv2\n",
        "import random\n",
        "import pandas as pd\n",
        "from glob import glob\n",
        "from pandas import option_context\n",
        "from termcolor import colored\n",
        "import matplotlib.pyplot as plt\n",
        "from matplotlib import gridspec\n",
        "from IPython.display import HTML\n",
        "from IPython.display import display"
      ],
      "metadata": {
        "id": "QFvHsRF9Np7m"
      },
      "execution_count": null,
      "outputs": []
    },
    {
      "cell_type": "code",
      "source": [
        "import xml.etree.ElementTree as ET\n",
        "import xml.etree.ElementTree"
      ],
      "metadata": {
        "id": "rIX4NS4uvV_8"
      },
      "execution_count": null,
      "outputs": []
    },
    {
      "cell_type": "markdown",
      "source": [
        "#xml Parsing"
      ],
      "metadata": {
        "id": "5cQi2IlkN17W"
      }
    },
    {
      "cell_type": "code",
      "source": [
        "xml_folder_path = '/content/drive/MyDrive/Aiffelthon/eda/xml_data'\n",
        "xml_folder_list = [xml_folder_path + '/train/train_part1_xml', xml_folder_path + '/train/train_part2_xml',\n",
        "                   xml_folder_path + '/validation/vaildation_xml']"
      ],
      "metadata": {
        "id": "reo7OlFLNt5Y"
      },
      "execution_count": null,
      "outputs": []
    },
    {
      "cell_type": "code",
      "source": [
        "def xml_file_list(xml_folder):\n",
        "  label = glob(xml_folder+'/labelXml'+'/*')\n",
        "  label = sorted(label, reverse=False)\n",
        "  label = sorted(label, key=len)\n",
        "  return label"
      ],
      "metadata": {
        "id": "gz5_hYJuNvE3"
      },
      "execution_count": null,
      "outputs": []
    },
    {
      "cell_type": "code",
      "source": [
        "for i in xml_folder_list:\n",
        "  if 'train_part1' in i:\n",
        "    train_part1_label = xml_file_list(i)\n",
        "  elif 'train_part2' in i:\n",
        "    train_part2_label = xml_file_list(i)\n",
        "  elif 'validation' in i:\n",
        "    validation_label = xml_file_list(i)"
      ],
      "metadata": {
        "id": "PTlNkGbqNvng"
      },
      "execution_count": null,
      "outputs": []
    },
    {
      "cell_type": "code",
      "source": [
        "train_label = train_part1_label + train_part2_label"
      ],
      "metadata": {
        "id": "LTY5AlNWN0PA"
      },
      "execution_count": null,
      "outputs": []
    },
    {
      "cell_type": "code",
      "source": [
        "tree = ET.parse(train_part1_label[0])\n",
        "root = tree.getroot()\n",
        "ET.dump(tree)"
      ],
      "metadata": {
        "id": "tRYJWP27N3IH",
        "colab": {
          "base_uri": "https://localhost:8080/"
        },
        "outputId": "37d72edb-3c8e-4ecc-a559-2c6415dad91e"
      },
      "execution_count": null,
      "outputs": [
        {
          "output_type": "stream",
          "name": "stdout",
          "text": [
            "<annotation>\n",
            "\t<source>\n",
            "\t\t<filename>0.tif</filename>\n",
            "\t\t<origin>GF2/GF3</origin>\n",
            "\t</source>\n",
            "\t<research>\n",
            "\t\t<version>1.0</version>\n",
            "\t\t<provider>FAIR1M</provider>\n",
            "\t\t<author>Cyber</author>\n",
            "\t\t<pluginname>FAIR1M</pluginname>\n",
            "\t\t<pluginclass>object detection</pluginclass>\n",
            "\t\t<time>2021-07-21</time>\n",
            "\t</research>\n",
            "\t<size>\n",
            "\t\t<width>1500</width>\n",
            "\t\t<height>1500</height>\n",
            "\t\t<depth>3</depth>\n",
            "\t</size>\n",
            "\t<objects>\n",
            "\t\t<object>\n",
            "\t\t\t<coordinate>pixel</coordinate>\n",
            "\t\t\t<type>rectangle</type>\n",
            "\t\t\t<description>None</description>\n",
            "\t\t\t<possibleresult>\n",
            "\t\t\t\t<name>Liquid Cargo Ship</name>\n",
            "\t\t\t</possibleresult>\n",
            "\t\t\t<points>\n",
            "\t\t\t\t<point>1275.000000,458.000000</point>\n",
            "\t\t\t\t<point>1494.000000,88.000000</point>\n",
            "\t\t\t\t<point>1417.000000,43.000000</point>\n",
            "\t\t\t\t<point>1199.000000,414.000000</point>\n",
            "\t\t\t\t<point>1275.000000,458.000000</point>\n",
            "\t\t\t</points>\n",
            "\t\t</object>\n",
            "\t\t<object>\n",
            "\t\t\t<coordinate>pixel</coordinate>\n",
            "\t\t\t<type>rectangle</type>\n",
            "\t\t\t<description>None</description>\n",
            "\t\t\t<possibleresult>\n",
            "\t\t\t\t<name>Passenger Ship</name>\n",
            "\t\t\t</possibleresult>\n",
            "\t\t\t<points>\n",
            "\t\t\t\t<point>630.000000,403.000000</point>\n",
            "\t\t\t\t<point>586.000000,385.000000</point>\n",
            "\t\t\t\t<point>582.000000,397.000000</point>\n",
            "\t\t\t\t<point>625.000000,414.000000</point>\n",
            "\t\t\t\t<point>630.000000,403.000000</point>\n",
            "\t\t\t</points>\n",
            "\t\t</object>\n",
            "\t\t<object>\n",
            "\t\t\t<coordinate>pixel</coordinate>\n",
            "\t\t\t<type>rectangle</type>\n",
            "\t\t\t<description>None</description>\n",
            "\t\t\t<possibleresult>\n",
            "\t\t\t\t<name>Dry Cargo Ship</name>\n",
            "\t\t\t</possibleresult>\n",
            "\t\t\t<points>\n",
            "\t\t\t\t<point>591.000000,1531.000000</point>\n",
            "\t\t\t\t<point>761.000000,1377.000000</point>\n",
            "\t\t\t\t<point>718.000000,1332.000000</point>\n",
            "\t\t\t\t<point>549.000000,1486.000000</point>\n",
            "\t\t\t\t<point>591.000000,1531.000000</point>\n",
            "\t\t\t</points>\n",
            "\t\t</object>\n",
            "\t</objects>\n",
            "</annotation>\n"
          ]
        }
      ]
    },
    {
      "cell_type": "markdown",
      "source": [
        "#Object Length Calculation"
      ],
      "metadata": {
        "id": "73v8YeQ4OQCQ"
      }
    },
    {
      "cell_type": "code",
      "source": [
        "tree = ET.parse(train_label[0])\n",
        "root = tree.getroot()\n",
        "print(root[0][0].text)\n",
        "print()\n",
        "\n",
        "class_name_list = []\n",
        "file_point_list = []\n",
        "\n",
        "for i in root[3]:\n",
        "  for child in i[3]:\n",
        "    class_name_list.append(child.text)\n",
        "    class_point_list = []\n",
        "    for j in range(len(i[4])):\n",
        "      class_point_tuple = []\n",
        "      points = i[4][j].text.split(',')\n",
        "      for point in points:\n",
        "        point = float(point)\n",
        "        class_point_tuple.append(point)\n",
        "      class_point_tuple = tuple(class_point_tuple)\n",
        "      class_point_list.append(class_point_tuple)\n",
        "    file_point_list.append(class_point_list)     \n",
        "\n",
        "for i, j in zip(class_name_list, file_point_list):\n",
        "  print(i, j)"
      ],
      "metadata": {
        "id": "pFm-iN92ORm4",
        "colab": {
          "base_uri": "https://localhost:8080/"
        },
        "outputId": "f63aa2f5-54f0-48a5-a031-924b84d89776"
      },
      "execution_count": null,
      "outputs": [
        {
          "output_type": "stream",
          "name": "stdout",
          "text": [
            "0.tif\n",
            "\n",
            "Liquid Cargo Ship [(1275.0, 458.0), (1494.0, 88.0), (1417.0, 43.0), (1199.0, 414.0), (1275.0, 458.0)]\n",
            "Passenger Ship [(630.0, 403.0), (586.0, 385.0), (582.0, 397.0), (625.0, 414.0), (630.0, 403.0)]\n",
            "Dry Cargo Ship [(591.0, 1531.0), (761.0, 1377.0), (718.0, 1332.0), (549.0, 1486.0), (591.0, 1531.0)]\n"
          ]
        }
      ]
    },
    {
      "cell_type": "markdown",
      "source": [
        "[TUTORIAL 2: CUSTOMIZE DATASETS](https://mmrotate.readthedocs.io/en/latest/tutorials/customize_dataset.html)"
      ],
      "metadata": {
        "id": "37zfMsrmOVXH"
      }
    },
    {
      "cell_type": "markdown",
      "source": [
        "The annotation txt files in DOTA format:\n",
        "<br/>Polygons with format (x1, y1, x2, y2, x3, y3, x4, y4)"
      ],
      "metadata": {
        "id": "y8CLI8PEOXIg"
      }
    },
    {
      "cell_type": "markdown",
      "source": [
        "[How to calculate area of a polygon with latitude and longitude?](https://stackoverflow.com/questions/45733838/how-to-calculate-area-of-a-polygon-with-latitude-and-longitude)"
      ],
      "metadata": {
        "id": "ubsWpBfHOY6I"
      }
    },
    {
      "cell_type": "code",
      "source": [
        "import tifffile as tiff\n",
        "from shapely.geometry import Polygon"
      ],
      "metadata": {
        "id": "xEZGm6QfORpY"
      },
      "execution_count": null,
      "outputs": []
    },
    {
      "cell_type": "code",
      "source": [
        "object_polygon_list = []\n",
        "object_length_list = []\n",
        "\n",
        "for points in file_point_list:\n",
        "  object_polygon = Polygon(points)\n",
        "  object_length = object_polygon.length\n",
        "  object_polygon_list.append(object_polygon)\n",
        "  object_length_list.append(object_length)"
      ],
      "metadata": {
        "id": "Tkl3YJpWObH_"
      },
      "execution_count": null,
      "outputs": []
    },
    {
      "cell_type": "code",
      "source": [
        "for i, j, k in zip(class_name_list, file_point_list, object_length_list):\n",
        "  print(i, j, k)"
      ],
      "metadata": {
        "id": "svRyYmEyvxkN",
        "outputId": "fff5f3f4-398c-42b6-8cc0-351b489b3e7e",
        "colab": {
          "base_uri": "https://localhost:8080/"
        }
      },
      "execution_count": null,
      "outputs": [
        {
          "output_type": "stream",
          "name": "stdout",
          "text": [
            "Liquid Cargo Ship [(1275.0, 458.0), (1494.0, 88.0), (1417.0, 43.0), (1199.0, 414.0), (1275.0, 458.0)] 1037.265872144639\n",
            "Passenger Ship [(630.0, 403.0), (586.0, 385.0), (582.0, 397.0), (625.0, 414.0), (630.0, 403.0)] 118.51012599707451\n",
            "Dry Cargo Ship [(591.0, 1531.0), (761.0, 1377.0), (718.0, 1332.0), (549.0, 1486.0), (591.0, 1531.0)] 581.819737695256\n"
          ]
        }
      ]
    },
    {
      "cell_type": "markdown",
      "source": [
        "#Polygon Length Dataframe"
      ],
      "metadata": {
        "id": "BrR-Kb8YOmNo"
      }
    },
    {
      "cell_type": "code",
      "source": [
        "def class_init():\n",
        "  vehicle_class_list = ['Dump Truck', 'Cargo Truck', 'Truck Tractor', 'Tractor','Excavator', 'Trailer', 'Van', 'Small Car', 'Bus', 'other-vehicle']\n",
        "  ship_class_list = ['Dry Cargo Ship', 'Liquid Cargo Ship', 'Motorboat', 'Fishing Boat', 'Tugboat', 'Engineering Ship', 'Warship', 'Passenger Ship', 'other-ship']\n",
        "  airplane_class_list = ['A220', 'A321', 'A330',  'A350', 'Boeing737', 'Boeing747', 'Boeing777', 'Boeing787', 'ARJ21', 'C919', 'other-airplane']\n",
        "  \n",
        "  class_list = [vehicle_class_list, ship_class_list, airplane_class_list]\n",
        "\n",
        "  polygon_length_df = pd.DataFrame({'file':['a'], 'class':['a'], 'object length':[0.0], \n",
        "                                    'point':[[(0.0, 0.0), (0.0, 0.0), (0.0, 0.0), (0.0, 0.0)]]})\n",
        "\n",
        "                                  \n",
        "  return vehicle_class_list, ship_class_list, airplane_class_list, class_list, polygon_length_df"
      ],
      "metadata": {
        "id": "6QBH0UpJOkgo"
      },
      "execution_count": null,
      "outputs": []
    },
    {
      "cell_type": "code",
      "source": [
        "def namestr(obj, namespace):\n",
        "    return [name for name in namespace if namespace[name] is obj]"
      ],
      "metadata": {
        "id": "IlUBq8UGWk-g"
      },
      "execution_count": null,
      "outputs": []
    },
    {
      "cell_type": "code",
      "source": [
        "def polygon_length(label, class_list, polygon_length_df):\n",
        "  file_name_list = []\n",
        "  class_name_list = []\n",
        "  file_point_list = []\n",
        "\n",
        "  for i in label:\n",
        "    tree = ET.parse(i)\n",
        "    root = tree.getroot()\n",
        "    for class_name in class_list:\n",
        "      list_index = class_list.index(class_name)\n",
        "      for detailed_class_name in class_name: \n",
        "        for i in root[3]:\n",
        "          for child in i[3]:\n",
        "            if child.text == detailed_class_name:\n",
        "              class_name_list.append(class_name)\n",
        "              class_point_list = []\n",
        "              for j in range(0, 4):\n",
        "                class_point_tuple = []\n",
        "                points = i[4][j].text.split(',')\n",
        "                for point in points:\n",
        "                  point = float(point)\n",
        "                  class_point_tuple.append(point)\n",
        "                class_point_tuple = tuple(class_point_tuple)\n",
        "                class_point_list.append(class_point_tuple)\n",
        "              file_point_list.append(class_point_list)     \n",
        "              file_name_list.append(root[0][0].text)\n",
        "\n",
        "  object_length_list = []\n",
        "  for points in file_point_list:\n",
        "    object_polygon = Polygon(points)\n",
        "    object_length = object_polygon.length\n",
        "    object_length_list.append(object_length)\n",
        "  \n",
        "  count = -1\n",
        "  for i, j, k, l in zip(file_name_list, class_name_list, object_length_list, file_point_list):\n",
        "    count += 1\n",
        "    for m in class_list:\n",
        "      list_index = class_list.index(m)\n",
        "      if j == class_list[list_index]:\n",
        "        if list_index == 0:\n",
        "          polygon_length_df.loc[count] = [i, 'vehicle', k, l]\n",
        "        if list_index == 1:\n",
        "          polygon_length_df.loc[count] = [i, 'ship', k, l]\n",
        "        if list_index == 2:\n",
        "          polygon_length_df.loc[count] = [i, 'airplane', k, l]\n",
        "\n",
        "  if 'train' in namestr(label, globals())[1]:\n",
        "    df_name = 'train_' + 'polygon_length_df'\n",
        "  elif 'validation' in namestr(label, globals())[1]:\n",
        "    df_name = 'validation_' + 'polygon_length_df'\n",
        "  globals()[df_name] = polygon_length_df  \n",
        "  globals()[df_name].to_csv('/content/drive/MyDrive/Aiffelthon/eda/object_length/' + df_name + '.csv', index = False)"
      ],
      "metadata": {
        "id": "IDqqi3ptWpgn"
      },
      "execution_count": null,
      "outputs": []
    },
    {
      "cell_type": "markdown",
      "source": [
        "namestr(label, globals())[ 0 ]이거나 namestr(label, globals())[ 1 ]이다.\n",
        "<br/>train_label, validation_label에 따라 다르다."
      ],
      "metadata": {
        "id": "FTQBI_ZPY2Ue"
      }
    },
    {
      "cell_type": "code",
      "source": [
        "vehicle_class_list, ship_class_list, airplane_class_list, class_list, polygon_length_df = class_init()\n",
        "polygon_length(train_label, class_list, polygon_length_df)"
      ],
      "metadata": {
        "id": "EeKamOMcfCXt"
      },
      "execution_count": null,
      "outputs": []
    },
    {
      "cell_type": "code",
      "source": [
        "vehicle_class_list, ship_class_list, airplane_class_list, class_list, polygon_length_df = class_init()\n",
        "polygon_length(validation_label, class_list, polygon_length_df)"
      ],
      "metadata": {
        "id": "J09njm4CfDMG"
      },
      "execution_count": null,
      "outputs": []
    },
    {
      "cell_type": "code",
      "source": [
        "csv_files = glob('/content/drive/MyDrive/Aiffelthon/eda/object_length/' + '*.csv')\n",
        "  \n",
        "for f in csv_files:\n",
        "  df = pd.read_csv(f)\n",
        "  file_name = ' '.join(s for s in f.split(\"/\")[-1][:-4].split(\"_\")[0:1])\n",
        "  if file_name == 'an':\n",
        "    print(f.split(\"/\")[-1].strip(\".csv\"))\n",
        "  print(colored(file_name, attrs=['bold']))\n",
        "  print()\n",
        "  pd.set_option('display.max_rows', 10)\n",
        "  with option_context('display.max_colwidth', None):\n",
        "    display(df)\n",
        "    print(\"\\n\" * 2)"
      ],
      "metadata": {
        "colab": {
          "base_uri": "https://localhost:8080/",
          "height": 1000
        },
        "id": "_mq2kaWkUXPW",
        "outputId": "b0ef3883-8a63-4e39-a365-bdbf7d33a44c"
      },
      "execution_count": null,
      "outputs": [
        {
          "output_type": "stream",
          "name": "stdout",
          "text": [
            "\u001b[1mtrain\u001b[0m\n",
            "\n"
          ]
        },
        {
          "output_type": "display_data",
          "data": {
            "text/plain": [
              "             file     class  object length  \\\n",
              "0           0.tif      ship     581.819738   \n",
              "1           0.tif      ship    1037.265872   \n",
              "2           0.tif      ship     118.510126   \n",
              "3           1.tif   vehicle      45.254834   \n",
              "4           1.tif   vehicle      59.658893   \n",
              "...           ...       ...            ...   \n",
              "379412  16485.tif  airplane     170.306642   \n",
              "379413  16486.tif  airplane     319.812837   \n",
              "379414  16487.tif  airplane     179.008862   \n",
              "379415  16487.tif  airplane     194.082617   \n",
              "379416  16487.tif  airplane     182.789773   \n",
              "\n",
              "                                                                                                       point  \n",
              "0                                       [(591.0, 1531.0), (761.0, 1377.0), (718.0, 1332.0), (549.0, 1486.0)]  \n",
              "1                                         [(1275.0, 458.0), (1494.0, 88.0), (1417.0, 43.0), (1199.0, 414.0)]  \n",
              "2                                           [(630.0, 403.0), (586.0, 385.0), (582.0, 397.0), (625.0, 414.0)]  \n",
              "3       [(43.000004, 953.000061), (38.000004, 958.000061), (27.000004, 947.000061), (32.000004, 942.000061)]  \n",
              "4             [(163.124451, 965.919556), (146.000061, 977.0), (140.875671, 969.080444), (158.000061, 958.0)]  \n",
              "...                                                                                                      ...  \n",
              "379412                                         [(104.0, 332.0), (78.0, 364.0), (44.0, 335.0), (71.0, 304.0)]  \n",
              "379413                                      [(177.0, 830.0), (238.0, 773.0), (186.0, 717.0), (125.0, 774.0)]  \n",
              "379414                                      [(773.0, 273.0), (745.0, 307.0), (710.0, 277.0), (737.0, 244.0)]  \n",
              "379415                                      [(305.0, 540.0), (277.0, 572.0), (236.0, 536.0), (265.0, 504.0)]  \n",
              "379416                                      [(342.0, 499.0), (305.0, 524.0), (279.0, 485.0), (315.0, 460.0)]  \n",
              "\n",
              "[379417 rows x 4 columns]"
            ],
            "text/html": [
              "\n",
              "  <div id=\"df-3fee3a98-3c8d-4ef4-8ced-0cc7a109405f\">\n",
              "    <div class=\"colab-df-container\">\n",
              "      <div>\n",
              "<style scoped>\n",
              "    .dataframe tbody tr th:only-of-type {\n",
              "        vertical-align: middle;\n",
              "    }\n",
              "\n",
              "    .dataframe tbody tr th {\n",
              "        vertical-align: top;\n",
              "    }\n",
              "\n",
              "    .dataframe thead th {\n",
              "        text-align: right;\n",
              "    }\n",
              "</style>\n",
              "<table border=\"1\" class=\"dataframe\">\n",
              "  <thead>\n",
              "    <tr style=\"text-align: right;\">\n",
              "      <th></th>\n",
              "      <th>file</th>\n",
              "      <th>class</th>\n",
              "      <th>object length</th>\n",
              "      <th>point</th>\n",
              "    </tr>\n",
              "  </thead>\n",
              "  <tbody>\n",
              "    <tr>\n",
              "      <th>0</th>\n",
              "      <td>0.tif</td>\n",
              "      <td>ship</td>\n",
              "      <td>581.819738</td>\n",
              "      <td>[(591.0, 1531.0), (761.0, 1377.0), (718.0, 1332.0), (549.0, 1486.0)]</td>\n",
              "    </tr>\n",
              "    <tr>\n",
              "      <th>1</th>\n",
              "      <td>0.tif</td>\n",
              "      <td>ship</td>\n",
              "      <td>1037.265872</td>\n",
              "      <td>[(1275.0, 458.0), (1494.0, 88.0), (1417.0, 43.0), (1199.0, 414.0)]</td>\n",
              "    </tr>\n",
              "    <tr>\n",
              "      <th>2</th>\n",
              "      <td>0.tif</td>\n",
              "      <td>ship</td>\n",
              "      <td>118.510126</td>\n",
              "      <td>[(630.0, 403.0), (586.0, 385.0), (582.0, 397.0), (625.0, 414.0)]</td>\n",
              "    </tr>\n",
              "    <tr>\n",
              "      <th>3</th>\n",
              "      <td>1.tif</td>\n",
              "      <td>vehicle</td>\n",
              "      <td>45.254834</td>\n",
              "      <td>[(43.000004, 953.000061), (38.000004, 958.000061), (27.000004, 947.000061), (32.000004, 942.000061)]</td>\n",
              "    </tr>\n",
              "    <tr>\n",
              "      <th>4</th>\n",
              "      <td>1.tif</td>\n",
              "      <td>vehicle</td>\n",
              "      <td>59.658893</td>\n",
              "      <td>[(163.124451, 965.919556), (146.000061, 977.0), (140.875671, 969.080444), (158.000061, 958.0)]</td>\n",
              "    </tr>\n",
              "    <tr>\n",
              "      <th>...</th>\n",
              "      <td>...</td>\n",
              "      <td>...</td>\n",
              "      <td>...</td>\n",
              "      <td>...</td>\n",
              "    </tr>\n",
              "    <tr>\n",
              "      <th>379412</th>\n",
              "      <td>16485.tif</td>\n",
              "      <td>airplane</td>\n",
              "      <td>170.306642</td>\n",
              "      <td>[(104.0, 332.0), (78.0, 364.0), (44.0, 335.0), (71.0, 304.0)]</td>\n",
              "    </tr>\n",
              "    <tr>\n",
              "      <th>379413</th>\n",
              "      <td>16486.tif</td>\n",
              "      <td>airplane</td>\n",
              "      <td>319.812837</td>\n",
              "      <td>[(177.0, 830.0), (238.0, 773.0), (186.0, 717.0), (125.0, 774.0)]</td>\n",
              "    </tr>\n",
              "    <tr>\n",
              "      <th>379414</th>\n",
              "      <td>16487.tif</td>\n",
              "      <td>airplane</td>\n",
              "      <td>179.008862</td>\n",
              "      <td>[(773.0, 273.0), (745.0, 307.0), (710.0, 277.0), (737.0, 244.0)]</td>\n",
              "    </tr>\n",
              "    <tr>\n",
              "      <th>379415</th>\n",
              "      <td>16487.tif</td>\n",
              "      <td>airplane</td>\n",
              "      <td>194.082617</td>\n",
              "      <td>[(305.0, 540.0), (277.0, 572.0), (236.0, 536.0), (265.0, 504.0)]</td>\n",
              "    </tr>\n",
              "    <tr>\n",
              "      <th>379416</th>\n",
              "      <td>16487.tif</td>\n",
              "      <td>airplane</td>\n",
              "      <td>182.789773</td>\n",
              "      <td>[(342.0, 499.0), (305.0, 524.0), (279.0, 485.0), (315.0, 460.0)]</td>\n",
              "    </tr>\n",
              "  </tbody>\n",
              "</table>\n",
              "<p>379417 rows × 4 columns</p>\n",
              "</div>\n",
              "      <button class=\"colab-df-convert\" onclick=\"convertToInteractive('df-3fee3a98-3c8d-4ef4-8ced-0cc7a109405f')\"\n",
              "              title=\"Convert this dataframe to an interactive table.\"\n",
              "              style=\"display:none;\">\n",
              "        \n",
              "  <svg xmlns=\"http://www.w3.org/2000/svg\" height=\"24px\"viewBox=\"0 0 24 24\"\n",
              "       width=\"24px\">\n",
              "    <path d=\"M0 0h24v24H0V0z\" fill=\"none\"/>\n",
              "    <path d=\"M18.56 5.44l.94 2.06.94-2.06 2.06-.94-2.06-.94-.94-2.06-.94 2.06-2.06.94zm-11 1L8.5 8.5l.94-2.06 2.06-.94-2.06-.94L8.5 2.5l-.94 2.06-2.06.94zm10 10l.94 2.06.94-2.06 2.06-.94-2.06-.94-.94-2.06-.94 2.06-2.06.94z\"/><path d=\"M17.41 7.96l-1.37-1.37c-.4-.4-.92-.59-1.43-.59-.52 0-1.04.2-1.43.59L10.3 9.45l-7.72 7.72c-.78.78-.78 2.05 0 2.83L4 21.41c.39.39.9.59 1.41.59.51 0 1.02-.2 1.41-.59l7.78-7.78 2.81-2.81c.8-.78.8-2.07 0-2.86zM5.41 20L4 18.59l7.72-7.72 1.47 1.35L5.41 20z\"/>\n",
              "  </svg>\n",
              "      </button>\n",
              "      \n",
              "  <style>\n",
              "    .colab-df-container {\n",
              "      display:flex;\n",
              "      flex-wrap:wrap;\n",
              "      gap: 12px;\n",
              "    }\n",
              "\n",
              "    .colab-df-convert {\n",
              "      background-color: #E8F0FE;\n",
              "      border: none;\n",
              "      border-radius: 50%;\n",
              "      cursor: pointer;\n",
              "      display: none;\n",
              "      fill: #1967D2;\n",
              "      height: 32px;\n",
              "      padding: 0 0 0 0;\n",
              "      width: 32px;\n",
              "    }\n",
              "\n",
              "    .colab-df-convert:hover {\n",
              "      background-color: #E2EBFA;\n",
              "      box-shadow: 0px 1px 2px rgba(60, 64, 67, 0.3), 0px 1px 3px 1px rgba(60, 64, 67, 0.15);\n",
              "      fill: #174EA6;\n",
              "    }\n",
              "\n",
              "    [theme=dark] .colab-df-convert {\n",
              "      background-color: #3B4455;\n",
              "      fill: #D2E3FC;\n",
              "    }\n",
              "\n",
              "    [theme=dark] .colab-df-convert:hover {\n",
              "      background-color: #434B5C;\n",
              "      box-shadow: 0px 1px 3px 1px rgba(0, 0, 0, 0.15);\n",
              "      filter: drop-shadow(0px 1px 2px rgba(0, 0, 0, 0.3));\n",
              "      fill: #FFFFFF;\n",
              "    }\n",
              "  </style>\n",
              "\n",
              "      <script>\n",
              "        const buttonEl =\n",
              "          document.querySelector('#df-3fee3a98-3c8d-4ef4-8ced-0cc7a109405f button.colab-df-convert');\n",
              "        buttonEl.style.display =\n",
              "          google.colab.kernel.accessAllowed ? 'block' : 'none';\n",
              "\n",
              "        async function convertToInteractive(key) {\n",
              "          const element = document.querySelector('#df-3fee3a98-3c8d-4ef4-8ced-0cc7a109405f');\n",
              "          const dataTable =\n",
              "            await google.colab.kernel.invokeFunction('convertToInteractive',\n",
              "                                                     [key], {});\n",
              "          if (!dataTable) return;\n",
              "\n",
              "          const docLinkHtml = 'Like what you see? Visit the ' +\n",
              "            '<a target=\"_blank\" href=https://colab.research.google.com/notebooks/data_table.ipynb>data table notebook</a>'\n",
              "            + ' to learn more about interactive tables.';\n",
              "          element.innerHTML = '';\n",
              "          dataTable['output_type'] = 'display_data';\n",
              "          await google.colab.output.renderOutput(dataTable, element);\n",
              "          const docLink = document.createElement('div');\n",
              "          docLink.innerHTML = docLinkHtml;\n",
              "          element.appendChild(docLink);\n",
              "        }\n",
              "      </script>\n",
              "    </div>\n",
              "  </div>\n",
              "  "
            ]
          },
          "metadata": {}
        },
        {
          "output_type": "stream",
          "name": "stdout",
          "text": [
            "\n",
            "\n",
            "\n",
            "\u001b[1mvalidation\u001b[0m\n",
            "\n"
          ]
        },
        {
          "output_type": "display_data",
          "data": {
            "text/plain": [
              "            file    class  object length  \\\n",
              "0          0.tif     ship     857.939499   \n",
              "1          1.tif  vehicle      76.562244   \n",
              "2          1.tif  vehicle     123.061797   \n",
              "3          1.tif  vehicle      82.067391   \n",
              "4          1.tif  vehicle     156.150410   \n",
              "...          ...      ...            ...   \n",
              "193665  8286.tif     ship     283.811249   \n",
              "193666  8286.tif     ship     285.138983   \n",
              "193667  8286.tif     ship     161.276040   \n",
              "193668  8286.tif     ship     166.330784   \n",
              "193669  8286.tif     ship     112.024387   \n",
              "\n",
              "                                                                   point  \n",
              "0         [(841.0, 127.0), (489.0, 20.0), (472.0, 78.0), (824.0, 186.0)]  \n",
              "1           [(64.0, 826.0), (55.0, 850.0), (43.0, 846.0), (52.0, 822.0)]  \n",
              "2       [(880.0, 775.0), (830.0, 776.0), (830.0, 764.0), (879.0, 763.0)]  \n",
              "3       [(866.0, 757.0), (837.0, 762.0), (835.0, 751.0), (865.0, 746.0)]  \n",
              "4       [(690.0, 722.0), (623.0, 724.0), (622.0, 713.0), (689.0, 711.0)]  \n",
              "...                                                                  ...  \n",
              "193665  [(973.0, 404.0), (851.0, 418.0), (853.0, 437.0), (975.0, 423.0)]  \n",
              "193666  [(979.0, 422.0), (859.0, 439.0), (862.0, 460.0), (983.0, 442.0)]  \n",
              "193667  [(722.0, 151.0), (700.0, 200.0), (725.0, 210.0), (747.0, 161.0)]  \n",
              "193668  [(983.0, 345.0), (914.0, 350.0), (914.0, 363.0), (984.0, 359.0)]  \n",
              "193669  [(991.0, 386.0), (950.0, 387.0), (950.0, 402.0), (991.0, 401.0)]  \n",
              "\n",
              "[193670 rows x 4 columns]"
            ],
            "text/html": [
              "\n",
              "  <div id=\"df-678053ef-8922-4b20-9049-0cff024cbf5f\">\n",
              "    <div class=\"colab-df-container\">\n",
              "      <div>\n",
              "<style scoped>\n",
              "    .dataframe tbody tr th:only-of-type {\n",
              "        vertical-align: middle;\n",
              "    }\n",
              "\n",
              "    .dataframe tbody tr th {\n",
              "        vertical-align: top;\n",
              "    }\n",
              "\n",
              "    .dataframe thead th {\n",
              "        text-align: right;\n",
              "    }\n",
              "</style>\n",
              "<table border=\"1\" class=\"dataframe\">\n",
              "  <thead>\n",
              "    <tr style=\"text-align: right;\">\n",
              "      <th></th>\n",
              "      <th>file</th>\n",
              "      <th>class</th>\n",
              "      <th>object length</th>\n",
              "      <th>point</th>\n",
              "    </tr>\n",
              "  </thead>\n",
              "  <tbody>\n",
              "    <tr>\n",
              "      <th>0</th>\n",
              "      <td>0.tif</td>\n",
              "      <td>ship</td>\n",
              "      <td>857.939499</td>\n",
              "      <td>[(841.0, 127.0), (489.0, 20.0), (472.0, 78.0), (824.0, 186.0)]</td>\n",
              "    </tr>\n",
              "    <tr>\n",
              "      <th>1</th>\n",
              "      <td>1.tif</td>\n",
              "      <td>vehicle</td>\n",
              "      <td>76.562244</td>\n",
              "      <td>[(64.0, 826.0), (55.0, 850.0), (43.0, 846.0), (52.0, 822.0)]</td>\n",
              "    </tr>\n",
              "    <tr>\n",
              "      <th>2</th>\n",
              "      <td>1.tif</td>\n",
              "      <td>vehicle</td>\n",
              "      <td>123.061797</td>\n",
              "      <td>[(880.0, 775.0), (830.0, 776.0), (830.0, 764.0), (879.0, 763.0)]</td>\n",
              "    </tr>\n",
              "    <tr>\n",
              "      <th>3</th>\n",
              "      <td>1.tif</td>\n",
              "      <td>vehicle</td>\n",
              "      <td>82.067391</td>\n",
              "      <td>[(866.0, 757.0), (837.0, 762.0), (835.0, 751.0), (865.0, 746.0)]</td>\n",
              "    </tr>\n",
              "    <tr>\n",
              "      <th>4</th>\n",
              "      <td>1.tif</td>\n",
              "      <td>vehicle</td>\n",
              "      <td>156.150410</td>\n",
              "      <td>[(690.0, 722.0), (623.0, 724.0), (622.0, 713.0), (689.0, 711.0)]</td>\n",
              "    </tr>\n",
              "    <tr>\n",
              "      <th>...</th>\n",
              "      <td>...</td>\n",
              "      <td>...</td>\n",
              "      <td>...</td>\n",
              "      <td>...</td>\n",
              "    </tr>\n",
              "    <tr>\n",
              "      <th>193665</th>\n",
              "      <td>8286.tif</td>\n",
              "      <td>ship</td>\n",
              "      <td>283.811249</td>\n",
              "      <td>[(973.0, 404.0), (851.0, 418.0), (853.0, 437.0), (975.0, 423.0)]</td>\n",
              "    </tr>\n",
              "    <tr>\n",
              "      <th>193666</th>\n",
              "      <td>8286.tif</td>\n",
              "      <td>ship</td>\n",
              "      <td>285.138983</td>\n",
              "      <td>[(979.0, 422.0), (859.0, 439.0), (862.0, 460.0), (983.0, 442.0)]</td>\n",
              "    </tr>\n",
              "    <tr>\n",
              "      <th>193667</th>\n",
              "      <td>8286.tif</td>\n",
              "      <td>ship</td>\n",
              "      <td>161.276040</td>\n",
              "      <td>[(722.0, 151.0), (700.0, 200.0), (725.0, 210.0), (747.0, 161.0)]</td>\n",
              "    </tr>\n",
              "    <tr>\n",
              "      <th>193668</th>\n",
              "      <td>8286.tif</td>\n",
              "      <td>ship</td>\n",
              "      <td>166.330784</td>\n",
              "      <td>[(983.0, 345.0), (914.0, 350.0), (914.0, 363.0), (984.0, 359.0)]</td>\n",
              "    </tr>\n",
              "    <tr>\n",
              "      <th>193669</th>\n",
              "      <td>8286.tif</td>\n",
              "      <td>ship</td>\n",
              "      <td>112.024387</td>\n",
              "      <td>[(991.0, 386.0), (950.0, 387.0), (950.0, 402.0), (991.0, 401.0)]</td>\n",
              "    </tr>\n",
              "  </tbody>\n",
              "</table>\n",
              "<p>193670 rows × 4 columns</p>\n",
              "</div>\n",
              "      <button class=\"colab-df-convert\" onclick=\"convertToInteractive('df-678053ef-8922-4b20-9049-0cff024cbf5f')\"\n",
              "              title=\"Convert this dataframe to an interactive table.\"\n",
              "              style=\"display:none;\">\n",
              "        \n",
              "  <svg xmlns=\"http://www.w3.org/2000/svg\" height=\"24px\"viewBox=\"0 0 24 24\"\n",
              "       width=\"24px\">\n",
              "    <path d=\"M0 0h24v24H0V0z\" fill=\"none\"/>\n",
              "    <path d=\"M18.56 5.44l.94 2.06.94-2.06 2.06-.94-2.06-.94-.94-2.06-.94 2.06-2.06.94zm-11 1L8.5 8.5l.94-2.06 2.06-.94-2.06-.94L8.5 2.5l-.94 2.06-2.06.94zm10 10l.94 2.06.94-2.06 2.06-.94-2.06-.94-.94-2.06-.94 2.06-2.06.94z\"/><path d=\"M17.41 7.96l-1.37-1.37c-.4-.4-.92-.59-1.43-.59-.52 0-1.04.2-1.43.59L10.3 9.45l-7.72 7.72c-.78.78-.78 2.05 0 2.83L4 21.41c.39.39.9.59 1.41.59.51 0 1.02-.2 1.41-.59l7.78-7.78 2.81-2.81c.8-.78.8-2.07 0-2.86zM5.41 20L4 18.59l7.72-7.72 1.47 1.35L5.41 20z\"/>\n",
              "  </svg>\n",
              "      </button>\n",
              "      \n",
              "  <style>\n",
              "    .colab-df-container {\n",
              "      display:flex;\n",
              "      flex-wrap:wrap;\n",
              "      gap: 12px;\n",
              "    }\n",
              "\n",
              "    .colab-df-convert {\n",
              "      background-color: #E8F0FE;\n",
              "      border: none;\n",
              "      border-radius: 50%;\n",
              "      cursor: pointer;\n",
              "      display: none;\n",
              "      fill: #1967D2;\n",
              "      height: 32px;\n",
              "      padding: 0 0 0 0;\n",
              "      width: 32px;\n",
              "    }\n",
              "\n",
              "    .colab-df-convert:hover {\n",
              "      background-color: #E2EBFA;\n",
              "      box-shadow: 0px 1px 2px rgba(60, 64, 67, 0.3), 0px 1px 3px 1px rgba(60, 64, 67, 0.15);\n",
              "      fill: #174EA6;\n",
              "    }\n",
              "\n",
              "    [theme=dark] .colab-df-convert {\n",
              "      background-color: #3B4455;\n",
              "      fill: #D2E3FC;\n",
              "    }\n",
              "\n",
              "    [theme=dark] .colab-df-convert:hover {\n",
              "      background-color: #434B5C;\n",
              "      box-shadow: 0px 1px 3px 1px rgba(0, 0, 0, 0.15);\n",
              "      filter: drop-shadow(0px 1px 2px rgba(0, 0, 0, 0.3));\n",
              "      fill: #FFFFFF;\n",
              "    }\n",
              "  </style>\n",
              "\n",
              "      <script>\n",
              "        const buttonEl =\n",
              "          document.querySelector('#df-678053ef-8922-4b20-9049-0cff024cbf5f button.colab-df-convert');\n",
              "        buttonEl.style.display =\n",
              "          google.colab.kernel.accessAllowed ? 'block' : 'none';\n",
              "\n",
              "        async function convertToInteractive(key) {\n",
              "          const element = document.querySelector('#df-678053ef-8922-4b20-9049-0cff024cbf5f');\n",
              "          const dataTable =\n",
              "            await google.colab.kernel.invokeFunction('convertToInteractive',\n",
              "                                                     [key], {});\n",
              "          if (!dataTable) return;\n",
              "\n",
              "          const docLinkHtml = 'Like what you see? Visit the ' +\n",
              "            '<a target=\"_blank\" href=https://colab.research.google.com/notebooks/data_table.ipynb>data table notebook</a>'\n",
              "            + ' to learn more about interactive tables.';\n",
              "          element.innerHTML = '';\n",
              "          dataTable['output_type'] = 'display_data';\n",
              "          await google.colab.output.renderOutput(dataTable, element);\n",
              "          const docLink = document.createElement('div');\n",
              "          docLink.innerHTML = docLinkHtml;\n",
              "          element.appendChild(docLink);\n",
              "        }\n",
              "      </script>\n",
              "    </div>\n",
              "  </div>\n",
              "  "
            ]
          },
          "metadata": {}
        },
        {
          "output_type": "stream",
          "name": "stdout",
          "text": [
            "\n",
            "\n",
            "\n"
          ]
        }
      ]
    }
  ]
}