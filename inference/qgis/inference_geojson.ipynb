{
  "nbformat": 4,
  "nbformat_minor": 0,
  "metadata": {
    "colab": {
      "provenance": [],
      "collapsed_sections": [],
      "toc_visible": true
    },
    "kernelspec": {
      "name": "python3",
      "display_name": "Python 3"
    },
    "language_info": {
      "name": "python"
    },
    "gpuClass": "standard"
  },
  "cells": [
    {
      "cell_type": "markdown",
      "source": [
        "##Inference log Convert to gejson"
      ],
      "metadata": {
        "id": "PvUFt5UYCe6a"
      }
    },
    {
      "cell_type": "markdown",
      "source": [],
      "metadata": {
        "id": "k7WR1IUbCmNM"
      }
    },
    {
      "cell_type": "markdown",
      "source": [
        "Bounding Box Coordinate\n",
        "<br/>Class Bounding Box Coordinate"
      ],
      "metadata": {
        "id": "3cB3sQzRCmP2"
      }
    },
    {
      "cell_type": "markdown",
      "source": [],
      "metadata": {
        "id": "7e8kR1btCmbT"
      }
    },
    {
      "cell_type": "markdown",
      "source": [
        "#Bounding Box Coordinate"
      ],
      "metadata": {
        "id": "-5gqeXpeofOr"
      }
    },
    {
      "cell_type": "code",
      "source": [
        "pwd"
      ],
      "metadata": {
        "colab": {
          "base_uri": "https://localhost:8080/"
        },
        "id": "zpOiJwaUHhX_",
        "outputId": "f8e7dfc0-a936-4f26-cc85-ff329594c77b"
      },
      "execution_count": null,
      "outputs": [
        {
          "output_type": "stream",
          "name": "stdout",
          "text": [
            "/content/drive/.shortcut-targets-by-id/1YwVTiHBLdDN6lW5qFBt_FvhT8gncxmxj/Aiffelthon/mmrotate\n"
          ]
        }
      ]
    },
    {
      "cell_type": "code",
      "source": [
        "cd .."
      ],
      "metadata": {
        "colab": {
          "base_uri": "https://localhost:8080/"
        },
        "id": "Czx3QZjgECct",
        "outputId": "9d5d7918-98d1-4529-d368-f3a0e1d87352"
      },
      "execution_count": null,
      "outputs": [
        {
          "output_type": "stream",
          "name": "stdout",
          "text": [
            "/content/drive/.shortcut-targets-by-id/1YwVTiHBLdDN6lW5qFBt_FvhT8gncxmxj/Aiffelthon\n"
          ]
        }
      ]
    },
    {
      "cell_type": "code",
      "source": [
        "from google.colab import drive\n",
        "drive.mount('/content/drive')"
      ],
      "metadata": {
        "id": "brfFr7vDo8iT"
      },
      "execution_count": null,
      "outputs": []
    },
    {
      "cell_type": "code",
      "source": [
        "!pip install rasterio"
      ],
      "metadata": {
        "id": "cxQkdysUobEC"
      },
      "execution_count": null,
      "outputs": []
    },
    {
      "cell_type": "code",
      "source": [
        "!pip install geojson"
      ],
      "metadata": {
        "id": "B63SIFhMoqvz"
      },
      "execution_count": null,
      "outputs": []
    },
    {
      "cell_type": "code",
      "source": [
        "import os\n",
        "import shutil\n",
        "import pprint\n",
        "from glob import glob\n",
        "from termcolor import colored"
      ],
      "metadata": {
        "id": "QySK2i4CobLp"
      },
      "execution_count": null,
      "outputs": []
    },
    {
      "cell_type": "code",
      "source": [
        "import re\n",
        "import math\n",
        "import geojson\n",
        "import rasterio\n",
        "from osgeo import gdal\n",
        "import numpy as np"
      ],
      "metadata": {
        "id": "HqHNIHbbH9pV"
      },
      "execution_count": null,
      "outputs": []
    },
    {
      "cell_type": "code",
      "source": [
        "def make_bbox_paths(folder_name, file_extension):\n",
        "  \n",
        "  bbox_paths = glob(folder_name + file_extension)\n",
        "  bbox_paths = sorted(bbox_paths, reverse=False)\n",
        "  bbox_paths = sorted(bbox_paths, key=len)\n",
        "\n",
        "  return bbox_paths"
      ],
      "metadata": {
        "id": "s6SQBPYTIc71"
      },
      "execution_count": null,
      "outputs": []
    },
    {
      "cell_type": "code",
      "source": [
        "def make_image_paths(folder_name, bbox_paths):\n",
        "\n",
        "  image_paths = []\n",
        "  for bbox_path in bbox_paths:\n",
        "    img_path = bbox_path.replace('tif.log', 'tif')\n",
        "    image_path = folder_name + img_path.split('/')[-1]\n",
        "    image_paths.append(image_path)\n",
        "\n",
        "  return image_paths"
      ],
      "metadata": {
        "id": "1ThZSQmQIdJ0"
      },
      "execution_count": null,
      "outputs": []
    },
    {
      "cell_type": "code",
      "source": [
        "def make_geojson_paths(folder_name, image_paths):\n",
        "\n",
        "  geojson_paths = []\n",
        "  for image_path in image_paths:\n",
        "    geo_path = image_path.replace('tif', 'geojson')\n",
        "    geojson_path = folder_name + geo_path.split('/')[-1]\n",
        "    geojson_paths.append(geojson_path)\n",
        "\n",
        "  return geojson_paths"
      ],
      "metadata": {
        "id": "3cT6ciDNIf6N"
      },
      "execution_count": null,
      "outputs": []
    },
    {
      "cell_type": "code",
      "source": [
        "def init_geo_dictionary():\n",
        "\n",
        "  geo_dictionary = {\n",
        "  \"type\": \"FeatureCollection\",\n",
        "  \"name\": \"fair1m\",\n",
        "  \"crs\": { \"type\": \"name\", \"properties\": { \"name\": \"\" } },\n",
        "  \"features\": [\n",
        "  { \"type\": \"Feature\", \"properties\": { \"id\": 1 }, \"geometry\": { \"type\": \"MultiPolygon\",\n",
        "                                                              \"coordinates\": [ [ ] ] } }\n",
        "  ]\n",
        "  }\n",
        "  \n",
        "  return geo_dictionary"
      ],
      "metadata": {
        "id": "dGskQ346otuT"
      },
      "execution_count": null,
      "outputs": []
    },
    {
      "cell_type": "code",
      "source": [
        "def init_bbox_coordinate(bbox_path):\n",
        "\n",
        "  result = []\n",
        "\n",
        "  with open(bbox_path , 'r') as f:\n",
        "    while True:\n",
        "      line = f.readline()\n",
        "      if not line: break\n",
        "      a = re.findall(r\"[-+]?\\d*\\.\\d+|\\d+\", line)   \n",
        "      result.append([float(a[i]) for i in range(len(a)) if (i%3 == 2) or (i%3 == 0) and (i != 0)])\n",
        "    f.close()\n",
        "\n",
        "  return result"
      ],
      "metadata": {
        "id": "Vit6uWlso0xr"
      },
      "execution_count": null,
      "outputs": []
    },
    {
      "cell_type": "code",
      "source": [
        "def digit_length(n):\n",
        "    return int(math.log10(n)) + 1 if n else 0"
      ],
      "metadata": {
        "id": "rPe_eHQeIQQM"
      },
      "execution_count": null,
      "outputs": []
    },
    {
      "cell_type": "code",
      "source": [
        "def make_geo_dictionary(image_path, result, geo_dictionary):\n",
        "  \n",
        "  ds = gdal.Open(image_path)\n",
        "  metadata = gdal.Info(ds, format='json')\n",
        "\n",
        "  pixel_size = metadata['size']\n",
        "  cornerCoordinates = metadata['cornerCoordinates']\n",
        "  pixel_h = metadata['size'][0]\n",
        "  pixel_w = metadata['size'][1]\n",
        "\n",
        "  lowerLeft = cornerCoordinates['lowerLeft']\n",
        "  lowerRight = cornerCoordinates['lowerRight']\n",
        "  upperLeft = cornerCoordinates['upperLeft']\n",
        "  upperRight = cornerCoordinates['upperRight']\n",
        "\n",
        "  latitude = lowerLeft[0]\n",
        "  latitude2 = lowerRight[0]\n",
        "  longtitude = upperLeft[1]\n",
        "  longtitude2 = lowerLeft[1]\n",
        "    \n",
        "  wgs_h = abs(latitude - latitude2)\n",
        "  wgs_w = abs(longtitude - longtitude2)\n",
        "\n",
        "  epsg = re.findall(r'\\d+', metadata['coordinateSystem']['wkt'])\n",
        "\n",
        "  if digit_length(abs(latitude)) >= 5:\n",
        "    geo_dictionary['crs']['properties']['name'] = 'EPSG:' + epsg[-1]\n",
        "  \n",
        "  elif digit_length(abs(latitude)) < 5:\n",
        "     geo_dictionary['crs']['properties']['name'] = \"urn:ogc:def:crs:OGC:1.3:CRS84\"\n",
        "\n",
        "  for each_bbox in result:\n",
        "    x1 = each_bbox[0]; y1 = each_bbox[1]\n",
        "    x2 = each_bbox[2]; y2 = each_bbox[3]\n",
        "    x3 = each_bbox[4]; y3 = each_bbox[5]\n",
        "    x4 = each_bbox[6]; y4 = each_bbox[7]\n",
        "\n",
        "    transform_x1 = latitude + ((x1 / pixel_w) * wgs_w)\n",
        "    transform_y1 = longtitude - ((y1 / pixel_h) * wgs_h)\n",
        "    transform_x2 = latitude + ((x2 / pixel_w) * wgs_w)\n",
        "    transform_y2 = longtitude - ((y2 / pixel_h) * wgs_h)    \n",
        "    transform_x3 = latitude + ((x3 / pixel_w) * wgs_w)\n",
        "    transform_y3 = longtitude - ((y3 / pixel_h) * wgs_h)\n",
        "    transform_x4 = latitude + ((x4 / pixel_w) * wgs_w)\n",
        "    transform_y4 = longtitude - ((y4 / pixel_h) * wgs_h)\n",
        "\n",
        "    point_count = 0\n",
        "    for key, value in geo_dictionary.items():\n",
        "      point_count += 1\n",
        "      if point_count == len(geo_dictionary.items()):\n",
        "        for i, j in value[0].items():\n",
        "          if i == 'geometry':\n",
        "            bbox_coordinate = [[transform_x1, transform_y1], [transform_x2, transform_y2],\n",
        "                                [transform_x3, transform_y3], [transform_x4, transform_y4]]\n",
        "            j['coordinates'][0].append(bbox_coordinate)\n",
        "\n",
        "  return geo_dictionary"
      ],
      "metadata": {
        "id": "M2jfm2jZo1CD"
      },
      "execution_count": null,
      "outputs": []
    },
    {
      "cell_type": "code",
      "source": [
        "def make_geojson_dictionary(bbox_path, image_path):\n",
        "  geo_dictionary = init_geo_dictionary()\n",
        "  result = init_bbox_coordinate(bbox_path)\n",
        "  geojson_dictionary = make_geo_dictionary(image_path, result, geo_dictionary)\n",
        "  return geojson_dictionary"
      ],
      "metadata": {
        "id": "W5pdEVnjCJju"
      },
      "execution_count": null,
      "outputs": []
    },
    {
      "cell_type": "code",
      "source": [
        "def save_geojson_dictionary(bbox_paths, image_paths, json_paths):\n",
        "  for bbox_path, image_path, json_path in zip(bbox_paths, image_paths, json_paths):\n",
        "    geojson_dictionary = make_geojson_dictionary(bbox_path, image_path)\n",
        "    with open(json_path, 'w') as f:\n",
        "      geojson.dump(geojson_dictionary, f) "
      ],
      "metadata": {
        "id": "TFAJwnfNIWq7"
      },
      "execution_count": null,
      "outputs": []
    },
    {
      "cell_type": "code",
      "source": [
        "bbox_paths = make_bbox_paths('/content/drive/MyDrive/Aiffelthon/mmrotate/_infer/_infer_jsk/fair1m_roi-trans_ms_rr_le90_train_half_without_airplane_0.3/', '*.log')\n",
        "image_paths = make_image_paths('/content/drive/MyDrive/Aiffelthon/mmrotate/data/fair1m2.0/images_train_half1_without_airplane_500/', bbox_paths)\n",
        "geojson_paths = make_geojson_paths('/content/drive/MyDrive/Aiffelthon/qgis/train_super_half1_without_airplane_0.3/', image_paths)"
      ],
      "metadata": {
        "id": "5jrpKzzHInwV"
      },
      "execution_count": null,
      "outputs": []
    },
    {
      "cell_type": "code",
      "source": [
        "save_geojson_dictionary(bbox_paths, image_paths, geojson_paths)"
      ],
      "metadata": {
        "id": "oXH-e4AiUJxt"
      },
      "execution_count": null,
      "outputs": []
    },
    {
      "cell_type": "code",
      "source": [
        "geojson_path = '/content/drive/MyDrive/Aiffelthon/qgis/train_super_half1_without_airplane_0.3/11593.geojson'\n",
        "\n",
        "with open(geojson_path) as f:\n",
        "    geojson_file = geojson.load(f)\n",
        "\n",
        "geojson_file_name = geojson_path.split(\"/\")[-1]   \n",
        "print(colored(geojson_file_name, attrs=['bold']))\n",
        "print()\n",
        "pprint.pprint(geojson_file, width=160)"
      ],
      "metadata": {
        "id": "POxhWftfmo5x",
        "colab": {
          "base_uri": "https://localhost:8080/"
        },
        "outputId": "a3cad7c7-9405-4adc-de60-83797af1e99e"
      },
      "execution_count": null,
      "outputs": [
        {
          "output_type": "stream",
          "name": "stdout",
          "text": [
            "\u001b[1m11593.geojson\u001b[0m\n",
            "\n",
            "{'crs': {'properties': {'name': 'urn:ogc:def:crs:OGC:1.3:CRS84'}, 'type': 'name'},\n",
            " 'features': [{'geometry': {'coordinates': [[[[-93.221572, 36.633992], [-93.22158, 36.633989], [-93.221548, 36.633986], [-93.22154, 36.633994]],\n",
            "                                             [[-93.221915, 36.633992], [-93.221851, 36.633989], [-93.221845, 36.633986], [-93.221912, 36.633995]],\n",
            "                                             [[-93.22041, 36.633992], [-93.220413, 36.633989], [-93.220392, 36.633986], [-93.220389, 36.633994]],\n",
            "                                             [[-93.220781, 36.633992], [-93.220837, 36.633989], [-93.220837, 36.633986], [-93.220781, 36.633994]],\n",
            "                                             [[-93.220944, 36.633992], [-93.221, 36.633989], [-93.221, 36.633986], [-93.220944, 36.633994]],\n",
            "                                             [[-93.220526, 36.633992], [-93.220523, 36.633989], [-93.220502, 36.633986], [-93.220504, 36.633994]],\n",
            "                                             [[-93.220569, 36.633992], [-93.220526, 36.633989], [-93.220523, 36.633986], [-93.220566, 36.633994]],\n",
            "                                             [[-93.220781, 36.633992], [-93.220738, 36.633989], [-93.220735, 36.633986], [-93.220778, 36.633994]],\n",
            "                                             [[-93.220941, 36.633992], [-93.220893, 36.633989], [-93.22089, 36.633986], [-93.220939, 36.633994]],\n",
            "                                             [[-93.220502, 36.633992], [-93.220502, 36.633989], [-93.22048, 36.633986], [-93.220477, 36.633994]],\n",
            "                                             [[-93.220156, 36.633992], [-93.220156, 36.633989], [-93.220134, 36.633986], [-93.220137, 36.633995]],\n",
            "                                             [[-93.220797, 36.633992], [-93.220743, 36.633989], [-93.220735, 36.633986], [-93.220789, 36.633995]],\n",
            "                                             [[-93.22018, 36.633992], [-93.220182, 36.633989], [-93.220158, 36.633986], [-93.220156, 36.633995]],\n",
            "                                             [[-93.220818, 36.633992], [-93.220885, 36.633989], [-93.220885, 36.633986], [-93.220818, 36.633995]],\n",
            "                                             [[-93.220263, 36.633992], [-93.220263, 36.633989], [-93.220239, 36.633986], [-93.220239, 36.633996]],\n",
            "                                             [[-93.221097, 36.633992], [-93.221054, 36.633989], [-93.221049, 36.633986], [-93.221089, 36.633996]]]],\n",
            "                            'type': 'MultiPolygon'},\n",
            "               'properties': {'id': 1},\n",
            "               'type': 'Feature'}],\n",
            " 'name': 'fair1m',\n",
            " 'type': 'FeatureCollection'}\n"
          ]
        }
      ]
    },
    {
      "cell_type": "markdown",
      "source": [
        "#Class Bounding Box Coordinate"
      ],
      "metadata": {
        "id": "h93mL-vSTOYX"
      }
    },
    {
      "cell_type": "code",
      "source": [
        "pwd"
      ],
      "metadata": {
        "colab": {
          "base_uri": "https://localhost:8080/",
          "height": 35
        },
        "id": "T41avHayT7_H",
        "outputId": "436882ce-f6b3-4b92-de52-c1ba822ec32e"
      },
      "execution_count": null,
      "outputs": [
        {
          "output_type": "execute_result",
          "data": {
            "text/plain": [
              "'/content/drive/.shortcut-targets-by-id/1YwVTiHBLdDN6lW5qFBt_FvhT8gncxmxj/Aiffelthon/mmrotate'"
            ],
            "application/vnd.google.colaboratory.intrinsic+json": {
              "type": "string"
            }
          },
          "metadata": {},
          "execution_count": 134
        }
      ]
    },
    {
      "cell_type": "code",
      "source": [
        "cd .."
      ],
      "metadata": {
        "colab": {
          "base_uri": "https://localhost:8080/"
        },
        "id": "NZh8p9VnT8ae",
        "outputId": "03d4f949-2629-4e45-ba95-175023df6d78"
      },
      "execution_count": null,
      "outputs": [
        {
          "output_type": "stream",
          "name": "stdout",
          "text": [
            "/content/drive/.shortcut-targets-by-id/1YwVTiHBLdDN6lW5qFBt_FvhT8gncxmxj/Aiffelthon\n"
          ]
        }
      ]
    },
    {
      "cell_type": "code",
      "source": [
        "from google.colab import drive\n",
        "drive.mount('/content/drive')"
      ],
      "metadata": {
        "id": "2OxRXPTFTTWm"
      },
      "execution_count": null,
      "outputs": []
    },
    {
      "cell_type": "code",
      "source": [
        "!pip install rasterio"
      ],
      "metadata": {
        "id": "WMtJ8OtZTTn2"
      },
      "execution_count": null,
      "outputs": []
    },
    {
      "cell_type": "code",
      "source": [
        "!pip install geojson"
      ],
      "metadata": {
        "id": "Hwa34A6CTVzu"
      },
      "execution_count": null,
      "outputs": []
    },
    {
      "cell_type": "code",
      "source": [
        "import os\n",
        "import shutil\n",
        "import pprint\n",
        "from glob import glob\n",
        "from termcolor import colored"
      ],
      "metadata": {
        "id": "QFOF-yZeTV9m"
      },
      "execution_count": null,
      "outputs": []
    },
    {
      "cell_type": "code",
      "source": [
        "import re\n",
        "import math\n",
        "import geojson\n",
        "import rasterio\n",
        "from osgeo import gdal\n",
        "import numpy as np"
      ],
      "metadata": {
        "id": "LqvpSdV7Ur1s"
      },
      "execution_count": null,
      "outputs": []
    },
    {
      "cell_type": "code",
      "source": [
        "def make_bbox_paths(folder_name, file_extension):\n",
        "  \n",
        "  bbox_paths = glob(folder_name + file_extension)\n",
        "  bbox_paths = sorted(bbox_paths, reverse=False)\n",
        "  bbox_paths = sorted(bbox_paths, key=len)\n",
        "\n",
        "  return bbox_paths"
      ],
      "metadata": {
        "id": "5LhNRVWZUw50"
      },
      "execution_count": null,
      "outputs": []
    },
    {
      "cell_type": "code",
      "source": [
        "def make_image_paths(folder_name, bbox_paths):\n",
        "\n",
        "  image_paths = []\n",
        "  for bbox_path in bbox_paths:\n",
        "    img_path = bbox_path.replace('tif.log', 'tif')\n",
        "    image_path = folder_name + img_path.split('/')[-1]\n",
        "    image_paths.append(image_path)\n",
        "\n",
        "  return image_paths"
      ],
      "metadata": {
        "id": "64y81IKnUxEC"
      },
      "execution_count": null,
      "outputs": []
    },
    {
      "cell_type": "code",
      "source": [
        "def make_class_geojson_paths(folder_name, image_paths):\n",
        "\n",
        "  ship_geojson_paths = []\n",
        "  vehicle_geojson_paths = []\n",
        "  airplane_geojson_paths = []\n",
        "\n",
        "  for image_path in image_paths:\n",
        "    ship_bbox_geo = image_path.split('/')[-1].replace('.tif', '_ship.geojson')\n",
        "    ship_bbox_geojson = folder_name + ship_bbox_geo\n",
        "    ship_geojson_paths.append(ship_bbox_geojson)\n",
        "\n",
        "    vehicle_bbox_geo = image_path.split('/')[-1].replace('.tif', '_vehicle.geojson')\n",
        "    vehicle_bbox_geojson = folder_name + vehicle_bbox_geo\n",
        "    vehicle_geojson_paths.append(vehicle_bbox_geojson)\n",
        "\n",
        "    airplane_bbox_geo = image_path.split('/')[-1].replace('.tif', '_airplane.geojson')\n",
        "    airplane_bbox_geojson = folder_name + airplane_bbox_geo\n",
        "    airplane_geojson_paths.append(airplane_bbox_geojson)\n",
        "    \n",
        "  return ship_geojson_paths, vehicle_geojson_paths, airplane_geojson_paths"
      ],
      "metadata": {
        "id": "HyzMrtYtUyXk"
      },
      "execution_count": null,
      "outputs": []
    },
    {
      "cell_type": "code",
      "source": [
        "def init_geo_dictionary():\n",
        "\n",
        "  geo_dictionary = {\n",
        "  \"type\": \"FeatureCollection\",\n",
        "  \"name\": \"fair1m\",\n",
        "  \"crs\": { \"type\": \"name\", \"properties\": { \"name\": \"\" } },\n",
        "  \"features\": [\n",
        "  { \"type\": \"Feature\", \"properties\": { \"id\": 1 }, \"geometry\": { \"type\": \"MultiPolygon\",\n",
        "                                                              \"coordinates\": [ [ ] ] } }\n",
        "  ]\n",
        "  }\n",
        "  \n",
        "  return geo_dictionary"
      ],
      "metadata": {
        "id": "fBaHaoe-TY1H"
      },
      "execution_count": null,
      "outputs": []
    },
    {
      "cell_type": "code",
      "source": [
        "def init_class_bbox_coordinate(bbox_path):\n",
        "\n",
        "  ship_list = []\n",
        "  vehicle_list = []\n",
        "  airplane_list = []\n",
        "\n",
        "  with open(bbox_path , 'r') as f:\n",
        "    while True:\n",
        "      line = f.readline()\n",
        "      if not line: break\n",
        "      a = re.findall(r\"[-+]?\\d*\\.\\d+|\\d+\", line)\n",
        "      b = re.findall(r\"[A-Za-z_]+\", line)[-1]\n",
        "      if b == 'ship':\n",
        "        ship_list.append([float(a[i]) for i in range(len(a)) if (i%3 == 2) or (i%3 == 0) and (i != 0)])\n",
        "      elif b == 'vehicle':\n",
        "        vehicle_list.append([float(a[i]) for i in range(len(a)) if (i%3 == 2) or (i%3 == 0) and (i != 0)])\n",
        "      elif b == 'airplane':\n",
        "        airplane_list.append([float(a[i]) for i in range(len(a)) if (i%3 == 2) or (i%3 == 0) and (i != 0)])\n",
        "    f.close()\n",
        "\n",
        "    return ship_list, vehicle_list, airplane_list"
      ],
      "metadata": {
        "id": "VEWVPceyTahP"
      },
      "execution_count": null,
      "outputs": []
    },
    {
      "cell_type": "code",
      "source": [
        "def digit_length(n):\n",
        "    return int(math.log10(n)) + 1 if n else 0"
      ],
      "metadata": {
        "id": "aZkYk3cWVN6s"
      },
      "execution_count": null,
      "outputs": []
    },
    {
      "cell_type": "code",
      "source": [
        "def make_class_geo_dictionary(image_path, result, geo_dictionary):\n",
        "  \n",
        "  ds = gdal.Open(image_path)\n",
        "  metadata = gdal.Info(ds, format='json')\n",
        "\n",
        "  pixel_size = metadata['size']\n",
        "  cornerCoordinates = metadata['cornerCoordinates']\n",
        "  pixel_h = metadata['size'][0]\n",
        "  pixel_w = metadata['size'][1]\n",
        "\n",
        "  lowerLeft = cornerCoordinates['lowerLeft']\n",
        "  lowerRight = cornerCoordinates['lowerRight']\n",
        "  upperLeft = cornerCoordinates['upperLeft']\n",
        "  upperRight = cornerCoordinates['upperRight']\n",
        "\n",
        "  latitude = lowerLeft[0]\n",
        "  latitude2 = lowerRight[0]\n",
        "  longtitude = upperLeft[1]\n",
        "  longtitude2 = lowerLeft[1]\n",
        "    \n",
        "  wgs_h = abs(latitude - latitude2)\n",
        "  wgs_w = abs(longtitude - longtitude2)\n",
        "\n",
        "  epsg = re.findall(r'\\d+', metadata['coordinateSystem']['wkt'])\n",
        "\n",
        "  if digit_length(abs(latitude)) >= 5:\n",
        "    geo_dictionary['crs']['properties']['name'] = 'EPSG:' + epsg[-1]\n",
        "  \n",
        "  elif digit_length(abs(latitude)) < 5:\n",
        "     geo_dictionary['crs']['properties']['name'] = \"urn:ogc:def:crs:OGC:1.3:CRS84\"\n",
        "\n",
        "  for each_bbox in result:\n",
        "    x1 = each_bbox[0]; y1 = each_bbox[1]\n",
        "    x2 = each_bbox[2]; y2 = each_bbox[3]\n",
        "    x3 = each_bbox[4]; y3 = each_bbox[5]\n",
        "    x4 = each_bbox[6]; y4 = each_bbox[7]\n",
        "\n",
        "    transform_x1 = latitude + ((x1 / pixel_w) * wgs_w)\n",
        "    transform_y1 = longtitude - ((y1 / pixel_h) * wgs_h)\n",
        "    transform_x2 = latitude + ((x2 / pixel_w) * wgs_w)\n",
        "    transform_y2 = longtitude - ((y2 / pixel_h) * wgs_h)    \n",
        "    transform_x3 = latitude + ((x3 / pixel_w) * wgs_w)\n",
        "    transform_y3 = longtitude - ((y3 / pixel_h) * wgs_h)\n",
        "    transform_x4 = latitude + ((x4 / pixel_w) * wgs_w)\n",
        "    transform_y4 = longtitude - ((y4 / pixel_h) * wgs_h)\n",
        "\n",
        "    point_count = 0\n",
        "    for key, value in geo_dictionary.items():\n",
        "      point_count += 1\n",
        "      if point_count == len(geo_dictionary.items()):\n",
        "        for i, j in value[0].items():\n",
        "          if i == 'geometry':\n",
        "            bbox_coordinate = [[transform_x1, transform_y1], [transform_x2, transform_y2],\n",
        "                                [transform_x3, transform_y3], [transform_x4, transform_y4]]\n",
        "            j['coordinates'][0].append(bbox_coordinate)\n",
        "\n",
        "  return geo_dictionary"
      ],
      "metadata": {
        "id": "z0Q1-hqnTc3f"
      },
      "execution_count": null,
      "outputs": []
    },
    {
      "cell_type": "code",
      "source": [
        "def make_class_geojson_dictionary(bbox_path, image_path):\n",
        "\n",
        "  ship_list, vehicle_list, airplane_list = init_class_bbox_coordinate(bbox_path)  \n",
        "\n",
        "  geo_dictionary = init_geo_dictionary()\n",
        "  ship_geojson_dictionary = make_class_geo_dictionary(image_path, ship_list, geo_dictionary)\n",
        "\n",
        "  geo_dictionary = init_geo_dictionary()\n",
        "  vehicle_geojson_dictionary = make_class_geo_dictionary(image_path, vehicle_list, geo_dictionary)\n",
        "\n",
        "  geo_dictionary = init_geo_dictionary()\n",
        "  airplane_geojson_dictionary = make_class_geo_dictionary(image_path, airplane_list, geo_dictionary)\n",
        "\n",
        "  return ship_geojson_dictionary, vehicle_geojson_dictionary, airplane_geojson_dictionary"
      ],
      "metadata": {
        "id": "ISpI6LfmTief"
      },
      "execution_count": null,
      "outputs": []
    },
    {
      "cell_type": "code",
      "source": [
        "def save_class_geojson_dictionary(bbox_paths, image_paths, ship_json_paths, vehicle_json_paths, airplane_json_paths):\n",
        "\n",
        "  for bbox_path, image_path, ship_json_path, vehicle_json_path, airplane_json_path \\\n",
        "  in zip(bbox_paths, image_paths, ship_json_paths, vehicle_json_paths, airplane_json_paths):\n",
        "\n",
        "    ship_geojson_dictionary, vehicle_geojson_dictionary, airplane_geojson_dictionary \\\n",
        "     = make_class_geojson_dictionary(bbox_path, image_path)\n",
        "\n",
        "    with open(ship_json_path, 'w') as f:\n",
        "      geojson.dump(ship_geojson_dictionary, f)   \n",
        "    \n",
        "    f.close()\n",
        "\n",
        "    with open(vehicle_json_path, 'w') as f:\n",
        "      geojson.dump(vehicle_geojson_dictionary, f)  \n",
        "\n",
        "    f.close()\n",
        "\n",
        "    with open(airplane_json_path, 'w') as f:\n",
        "      geojson.dump(airplane_geojson_dictionary, f)    \n",
        "    \n",
        "    f.close()"
      ],
      "metadata": {
        "id": "I9RWw_3FVjUk"
      },
      "execution_count": null,
      "outputs": []
    },
    {
      "cell_type": "code",
      "source": [
        "bbox_paths = make_bbox_paths('/content/drive/MyDrive/Aiffelthon/mmrotate/_infer/_infer_jsk/fair1m_roi-trans_ms_rr_le90_train_half_without_airplane_0.3/', '*.log')\n",
        "image_paths = make_image_paths('/content/drive/MyDrive/Aiffelthon/mmrotate/data/fair1m2.0/images_train_half1_without_airplane_500/', bbox_paths)\n",
        "ship_geojson_paths, vehicle_geojson_paths, airplane_geojson_paths = make_class_geojson_paths('/content/drive/MyDrive/Aiffelthon/qgis/train_super_half1_without_airplane_0.3_class/', image_paths)"
      ],
      "metadata": {
        "id": "IgxE5Bg33y9M"
      },
      "execution_count": null,
      "outputs": []
    },
    {
      "cell_type": "code",
      "source": [
        "save_class_geojson_dictionary(bbox_paths, image_paths, \\\n",
        "                              ship_geojson_paths, vehicle_geojson_paths, airplane_geojson_paths)"
      ],
      "metadata": {
        "id": "CqXzOv-OWSAD"
      },
      "execution_count": null,
      "outputs": []
    },
    {
      "cell_type": "code",
      "source": [
        "ship_geojson_path = '/content/drive/MyDrive/Aiffelthon/qgis/train_super_half1_without_airplane_0.3_class/11593_ship.geojson'\n",
        "vehicle_geojson_path = '/content/drive/MyDrive/Aiffelthon/qgis/train_super_half1_without_airplane_0.3_class/11593_vehicle.geojson'\n",
        "airplane_geojson_path = '/content/drive/MyDrive/Aiffelthon/qgis/train_super_half1_without_airplane_0.3_class/11593_airplane.geojson'\n",
        "\n",
        "with open(ship_geojson_path) as f:\n",
        "    ship_geojson_file = geojson.load(f)\n",
        "\n",
        "with open(vehicle_geojson_path) as f:\n",
        "    vehicle_geojson_file = geojson.load(f)\n",
        "\n",
        "with open(airplane_geojson_path) as f:\n",
        "    airplane_geojson_file = geojson.load(f)\n",
        "\n",
        "ship_geojson_file_name = ship_geojson_path.split(\"/\")[-1]   \n",
        "vehicle_geojson_file_name = vehicle_geojson_path.split(\"/\")[-1]   \n",
        "airplane_geojson_file_name = airplane_geojson_path.split(\"/\")[-1]   \n",
        "\n",
        "print(colored(ship_geojson_file_name, attrs=['bold']))\n",
        "print()\n",
        "pprint.pprint(ship_geojson_file, width=160)\n",
        "\n",
        "print(\"\\n\" * 2)\n",
        "\n",
        "print(colored(vehicle_geojson_file_name, attrs=['bold']))\n",
        "print()\n",
        "pprint.pprint(vehicle_geojson_file, width=160)\n",
        "\n",
        "print(\"\\n\" * 2)\n",
        "\n",
        "print(colored(airplane_geojson_file_name, attrs=['bold']))\n",
        "print()\n",
        "pprint.pprint(airplane_geojson_file, width=160)"
      ],
      "metadata": {
        "id": "8yfifTgimqs4",
        "colab": {
          "base_uri": "https://localhost:8080/"
        },
        "outputId": "cb039fad-acaa-4a5a-8960-6e2d34c9a465"
      },
      "execution_count": null,
      "outputs": [
        {
          "output_type": "stream",
          "name": "stdout",
          "text": [
            "\u001b[1m11593_ship.geojson\u001b[0m\n",
            "\n",
            "{'crs': {'properties': {'name': 'urn:ogc:def:crs:OGC:1.3:CRS84'}, 'type': 'name'},\n",
            " 'features': [{'geometry': {'coordinates': [[[[-93.221572, 36.633992], [-93.22158, 36.633989], [-93.221548, 36.633986], [-93.22154, 36.633994]],\n",
            "                                             [[-93.221915, 36.633992], [-93.221851, 36.633989], [-93.221845, 36.633986], [-93.221912, 36.633995]]]],\n",
            "                            'type': 'MultiPolygon'},\n",
            "               'properties': {'id': 1},\n",
            "               'type': 'Feature'}],\n",
            " 'name': 'fair1m',\n",
            " 'type': 'FeatureCollection'}\n",
            "\n",
            "\n",
            "\n",
            "\u001b[1m11593_vehicle.geojson\u001b[0m\n",
            "\n",
            "{'crs': {'properties': {'name': 'urn:ogc:def:crs:OGC:1.3:CRS84'}, 'type': 'name'},\n",
            " 'features': [{'geometry': {'coordinates': [[[[-93.22041, 36.633992], [-93.220413, 36.633989], [-93.220392, 36.633986], [-93.220389, 36.633994]],\n",
            "                                             [[-93.220781, 36.633992], [-93.220837, 36.633989], [-93.220837, 36.633986], [-93.220781, 36.633994]],\n",
            "                                             [[-93.220944, 36.633992], [-93.221, 36.633989], [-93.221, 36.633986], [-93.220944, 36.633994]],\n",
            "                                             [[-93.220526, 36.633992], [-93.220523, 36.633989], [-93.220502, 36.633986], [-93.220504, 36.633994]],\n",
            "                                             [[-93.220569, 36.633992], [-93.220526, 36.633989], [-93.220523, 36.633986], [-93.220566, 36.633994]],\n",
            "                                             [[-93.220781, 36.633992], [-93.220738, 36.633989], [-93.220735, 36.633986], [-93.220778, 36.633994]],\n",
            "                                             [[-93.220941, 36.633992], [-93.220893, 36.633989], [-93.22089, 36.633986], [-93.220939, 36.633994]],\n",
            "                                             [[-93.220502, 36.633992], [-93.220502, 36.633989], [-93.22048, 36.633986], [-93.220477, 36.633994]],\n",
            "                                             [[-93.220156, 36.633992], [-93.220156, 36.633989], [-93.220134, 36.633986], [-93.220137, 36.633995]],\n",
            "                                             [[-93.220797, 36.633992], [-93.220743, 36.633989], [-93.220735, 36.633986], [-93.220789, 36.633995]],\n",
            "                                             [[-93.22018, 36.633992], [-93.220182, 36.633989], [-93.220158, 36.633986], [-93.220156, 36.633995]],\n",
            "                                             [[-93.220818, 36.633992], [-93.220885, 36.633989], [-93.220885, 36.633986], [-93.220818, 36.633995]],\n",
            "                                             [[-93.220263, 36.633992], [-93.220263, 36.633989], [-93.220239, 36.633986], [-93.220239, 36.633996]],\n",
            "                                             [[-93.221097, 36.633992], [-93.221054, 36.633989], [-93.221049, 36.633986], [-93.221089, 36.633996]]]],\n",
            "                            'type': 'MultiPolygon'},\n",
            "               'properties': {'id': 1},\n",
            "               'type': 'Feature'}],\n",
            " 'name': 'fair1m',\n",
            " 'type': 'FeatureCollection'}\n",
            "\n",
            "\n",
            "\n",
            "\u001b[1m11593_airplane.geojson\u001b[0m\n",
            "\n",
            "{'crs': {'properties': {'name': 'urn:ogc:def:crs:OGC:1.3:CRS84'}, 'type': 'name'},\n",
            " 'features': [{\"geometry\": {\"coordinates\": [[]], \"type\": \"MultiPolygon\"}, \"properties\": {\"id\": 1}, \"type\": \"Feature\"}],\n",
            " 'name': 'fair1m',\n",
            " 'type': 'FeatureCollection'}\n"
          ]
        }
      ]
    }
  ]
}