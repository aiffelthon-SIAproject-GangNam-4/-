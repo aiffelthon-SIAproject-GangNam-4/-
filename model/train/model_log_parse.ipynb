{
  "nbformat": 4,
  "nbformat_minor": 0,
  "metadata": {
    "colab": {
      "provenance": [],
      "collapsed_sections": []
    },
    "kernelspec": {
      "name": "python3",
      "display_name": "Python 3"
    },
    "language_info": {
      "name": "python"
    }
  },
  "cells": [
    {
      "cell_type": "markdown",
      "source": [
        "#Model Log Parse"
      ],
      "metadata": {
        "id": "hSRVljDy5ErM"
      }
    },
    {
      "cell_type": "markdown",
      "source": [
        "#Development Envrionment"
      ],
      "metadata": {
        "id": "o3ik0eOJ8MFM"
      }
    },
    {
      "cell_type": "code",
      "source": [
        "!pip install python-docx"
      ],
      "metadata": {
        "id": "0Zaz2gET-Uns"
      },
      "execution_count": null,
      "outputs": []
    },
    {
      "cell_type": "code",
      "execution_count": null,
      "metadata": {
        "id": "40P0sW_S5D9U"
      },
      "outputs": [],
      "source": [
        "from google.colab import drive\n",
        "drive.mount('/content/drive')"
      ]
    },
    {
      "cell_type": "code",
      "source": [
        "import pprint\n",
        "import pandas as pd\n",
        "from glob import glob"
      ],
      "metadata": {
        "id": "ifX8zPNqUwv-"
      },
      "execution_count": 11,
      "outputs": []
    },
    {
      "cell_type": "markdown",
      "source": [
        "[문서 생성, 저장, 불러오기, 글자 입력](https://wikidocs.net/157981)"
      ],
      "metadata": {
        "id": "fAeaXafoZhyu"
      }
    },
    {
      "cell_type": "code",
      "source": [
        "# 가장 기본적인 기능(문서 열기, 저장, 글자 쓰기 등등)\n",
        "from docx import Document\n",
        "\n",
        "# 문단 정렬\n",
        "from docx.enum.text import WD_ALIGN_PARAGRAPH\n",
        "\n",
        "# 문자 스타일 변경\n",
        "from docx.enum.style import WD_STYLE_TYPE"
      ],
      "metadata": {
        "id": "m1vByPzxBLKU"
      },
      "execution_count": 4,
      "outputs": []
    },
    {
      "cell_type": "markdown",
      "source": [
        "#Model 1 (JSK)"
      ],
      "metadata": {
        "id": "5gVS5FSDcSY6"
      }
    },
    {
      "cell_type": "markdown",
      "source": [
        "##Evalutaion Metric"
      ],
      "metadata": {
        "id": "edrv1G1vHhEw"
      }
    },
    {
      "cell_type": "code",
      "source": [
        "class_list = ['ship', 'vehicle', 'airplane']\n",
        "\n",
        "doc = Document()\n",
        "doc.add_heading('roi-trans_ms_rr_le90_resnet101 Metric', level=0)\n",
        "\n",
        "with open('/content/drive/MyDrive/Aiffelthon/mmrotate/_train/_train_jsk/fair1m_roi-trans_ms_rr_le90_resnet101_jsk/20220921_125329.log', 'r') as f:\n",
        "    code_line = f.read().splitlines()\n",
        "    for code in code_line:\n",
        "      if 'Epoch(val)' in code and 'mAP' in code:\n",
        "        doc.add_paragraph(\"\\n\")\n",
        "        doc.add_paragraph(code[44:])\n",
        "        doc.add_paragraph(\"\\n\")\n",
        "      if 'ship' in code:\n",
        "        doc.add_paragraph(\"\\n\")\n",
        "        doc.add_paragraph(\"| class          | gts    | dets   | tp     | fp     | fn    | recall | precision | f1-score | ap    |\")   \n",
        "      for class_name in class_list:\n",
        "        if class_name in code:\n",
        "          doc.add_paragraph(code)\n",
        "\n",
        "doc.save('/content/drive/MyDrive/Aiffelthon/model_evaluation/evaulation_jsk/roi-trans_ms_rr_le90_resnet101_metric.docx')"
      ],
      "metadata": {
        "id": "X7i4w8WdGJXs"
      },
      "execution_count": 22,
      "outputs": []
    },
    {
      "cell_type": "markdown",
      "source": [
        "##Loss & Accuracy"
      ],
      "metadata": {
        "id": "ZXYLYyrwDh8G"
      }
    },
    {
      "cell_type": "code",
      "source": [
        "class_list = ['ship', 'vehicle', 'airplane']\n",
        "\n",
        "doc = Document()\n",
        "doc.add_heading('roi-trans_ms_rr_le90_resnet101 Loss & Accuracy', level=0)\n",
        "\n",
        "with open('/content/drive/MyDrive/Aiffelthon/mmrotate/_train/_train_jsk/fair1m_roi-trans_ms_rr_le90_resnet101_jsk/20220921_125329.log', 'r') as f:\n",
        "    code_line = f.read().splitlines()\n",
        "    for code in code_line:\n",
        "      if 'mmrotate - INFO - Epoch' in code and 'mAP' not in code:\n",
        "        doc.add_paragraph(code[44:])\n",
        "\n",
        "doc.save('/content/drive/MyDrive/Aiffelthon/model_evaluation/evaulation_jsk/roi-trans_ms_rr_le90_resnet101_loss_accuracy.docx')"
      ],
      "metadata": {
        "id": "xz2w0HnJHure"
      },
      "execution_count": null,
      "outputs": []
    },
    {
      "cell_type": "markdown",
      "source": [
        "#Model 2 (LCG)"
      ],
      "metadata": {
        "id": "ntWOik0mZgZb"
      }
    },
    {
      "cell_type": "markdown",
      "source": [
        "##Evalutaion Metric"
      ],
      "metadata": {
        "id": "wIMD2rrkID4d"
      }
    },
    {
      "cell_type": "code",
      "source": [
        "class_list = ['ship', 'vehicle', 'airplane']\n",
        "\n",
        "doc = Document()\n",
        "doc.add_heading('roi-trans_ms_rr_le90_4-2a Metric', level=0)\n",
        "\n",
        "with open('/content/drive/MyDrive/Aiffelthon/mmrotate/_train/_train_lcg/fair1m_roi-trans_ms_rr_le90_4-2a/20220920_032705.log', 'r') as f:\n",
        "    code_line = f.read().splitlines()\n",
        "    for code in code_line:\n",
        "      if 'Epoch(val)' in code and 'mAP' in code:\n",
        "        doc.add_paragraph(\"\\n\")\n",
        "        doc.add_paragraph(code[44:])\n",
        "        doc.add_paragraph(\"\\n\")\n",
        "      if 'ship' in code:\n",
        "        doc.add_paragraph(\"\\n\")\n",
        "        doc.add_paragraph(\"| class          | gts    | dets   | tp     | fp     | fn    | recall | precision | f1-score | ap    |\")   \n",
        "      for class_name in class_list:\n",
        "        if class_name in code:\n",
        "          doc.add_paragraph(code)\n",
        "\n",
        "doc.save('/content/drive/MyDrive/Aiffelthon/model_evaluation/evaulation_lcg/roi-trans_ms_rr_le90_4-2a_metric.docx')"
      ],
      "metadata": {
        "id": "k05tD3n_ZjSZ"
      },
      "execution_count": null,
      "outputs": []
    },
    {
      "cell_type": "markdown",
      "source": [
        "##Loss & Accuracy"
      ],
      "metadata": {
        "id": "EVALyheFIF7l"
      }
    },
    {
      "cell_type": "code",
      "source": [
        "class_list = ['ship', 'vehicle', 'airplane']\n",
        "\n",
        "doc = Document()\n",
        "doc.add_heading('roi-trans_ms_rr_le90_resnet101 Loss & Accuracy', level=0)\n",
        "\n",
        "with open('/content/drive/MyDrive/Aiffelthon/mmrotate/_train/_train_lcg/fair1m_roi-trans_ms_rr_le90_4-2a/20220920_032705.log', 'r') as f:\n",
        "    code_line = f.read().splitlines()\n",
        "    for code in code_line:\n",
        "      if 'mmrotate - INFO - Epoch' in code and 'mAP' not in code:\n",
        "        doc.add_paragraph(code[44:])\n",
        "\n",
        "doc.save('/content/drive/MyDrive/Aiffelthon/model_evaluation/evaulation_lcg/roi-trans_ms_rr_le90_4-2a_loss_accuracy.docx')"
      ],
      "metadata": {
        "id": "JJj5Arq6IHrN"
      },
      "execution_count": null,
      "outputs": []
    },
    {
      "cell_type": "markdown",
      "source": [
        "#Model 3 (YMS)"
      ],
      "metadata": {
        "id": "b3H8-1mra1SZ"
      }
    },
    {
      "cell_type": "markdown",
      "source": [
        "##Evalutaion Metric"
      ],
      "metadata": {
        "id": "oFWhqiYlIM2l"
      }
    },
    {
      "cell_type": "code",
      "source": [
        "class_list = ['ship', 'vehicle', 'airplane']\n",
        "\n",
        "doc = Document()\n",
        "doc.add_heading('roi-trans_ms_rr_le90_4-2a Metric', level=0)\n",
        "\n",
        "with open('/content/drive/MyDrive/Aiffelthon/mmrotate/_train/_train_yms/fair1m_roi-trans_ms_rr_le90_4-2a/20220920_032705.log', 'r') as f:\n",
        "    code_line = f.read().splitlines()\n",
        "    for code in code_line:\n",
        "      if 'Epoch(val)' in code and 'mAP' in code:\n",
        "        doc.add_paragraph(\"\\n\")\n",
        "        doc.add_paragraph(code[44:])\n",
        "        doc.add_paragraph(\"\\n\")\n",
        "      if 'ship' in code:\n",
        "        doc.add_paragraph(\"\\n\")\n",
        "        doc.add_paragraph(\"| class          | gts    | dets   | tp     | fp     | fn    | recall | precision | f1-score | ap    |\")   \n",
        "      for class_name in class_list:\n",
        "        if class_name in code:\n",
        "          doc.add_paragraph(code)\n",
        "\n",
        "doc.save('/content/drive/MyDrive/Aiffelthon/model_evaluation/evaulation_yms/roi-trans_ms_rr_le90_4-2a_metric.docx')"
      ],
      "metadata": {
        "id": "hQx14AMvILm9"
      },
      "execution_count": null,
      "outputs": []
    },
    {
      "cell_type": "markdown",
      "source": [
        "##Loss & Accuracy"
      ],
      "metadata": {
        "id": "V37QD04JIKPN"
      }
    },
    {
      "cell_type": "code",
      "source": [
        "class_list = ['ship', 'vehicle', 'airplane']\n",
        "\n",
        "doc = Document()\n",
        "doc.add_heading('roi-trans_ms_rr_le90_resnet101 Loss & Accuracy', level=0)\n",
        "\n",
        "with open('/content/drive/MyDrive/Aiffelthon/mmrotate/_train/_train_yms/fair1m_roi-trans_ms_rr_le90_4-2a/20220920_032705.log', 'r') as f:\n",
        "    code_line = f.read().splitlines()\n",
        "    for code in code_line:\n",
        "      if 'mmrotate - INFO - Epoch' in code and 'mAP' not in code:\n",
        "        doc.add_paragraph(code[44:])\n",
        "\n",
        "doc.save('/content/drive/MyDrive/Aiffelthon/model_evaluation/evaulation_yms/roi-trans_ms_rr_le90_4-2a_loss_accuracy.docx')"
      ],
      "metadata": {
        "id": "SIXGVwVNIJYV"
      },
      "execution_count": null,
      "outputs": []
    }
  ]
}