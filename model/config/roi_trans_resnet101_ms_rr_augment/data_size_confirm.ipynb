{
  "nbformat": 4,
  "nbformat_minor": 0,
  "metadata": {
    "colab": {
      "provenance": [],
      "collapsed_sections": []
    },
    "kernelspec": {
      "name": "python3",
      "display_name": "Python 3"
    },
    "language_info": {
      "name": "python"
    }
  },
  "cells": [
    {
      "cell_type": "code",
      "source": [
        "from google.colab import drive\n",
        "drive.mount('/content/drive')"
      ],
      "metadata": {
        "id": "WXmr0_XB-iea"
      },
      "execution_count": null,
      "outputs": []
    },
    {
      "cell_type": "code",
      "execution_count": null,
      "metadata": {
        "id": "RYmvWrLR-h8a"
      },
      "outputs": [],
      "source": [
        "from glob import glob"
      ]
    },
    {
      "cell_type": "code",
      "source": [
        "train_tif_size = len(glob('/content/drive/MyDrive/Aiffelthon/mmrotate/data/fair1m2.0/images_train/' + '*.tif')) \n",
        "val_tif_size = len(glob('/content/drive/MyDrive/Aiffelthon/mmrotate/data/fair1m2.0/images_val/' + '*.tif'))\n",
        "print(train_tif_size, val_tif_size)"
      ],
      "metadata": {
        "id": "voEDK4Xv-lgZ"
      },
      "execution_count": null,
      "outputs": []
    },
    {
      "cell_type": "code",
      "source": [
        "train_txt_size = len(glob('/content/drive/MyDrive/Aiffelthon/mmrotate/data/fair1m2.0/train_super/' + '*.txt')) \n",
        "val_txt_size = len(glob('/content/drive/MyDrive/Aiffelthon/mmrotate/data/fair1m2.0/val_super/' + '*.txt'))\n",
        "print(train_txt_size, val_txt_size)"
      ],
      "metadata": {
        "id": "nUTs2zWS-lip"
      },
      "execution_count": null,
      "outputs": []
    },
    {
      "cell_type": "code",
      "source": [
        "train_tif_size = len(glob('/content/drive/MyDrive/Aiffelthon/mmrotate/data/fair1m2.0/images_train/' + '*.tif')) \\\n",
        "- len(glob('/content/drive/MyDrive/Aiffelthon/mmrotate/data/fair1m2.0/images_train/' + '*albu.tif')) \\\n",
        "- len(glob('/content/drive/MyDrive/Aiffelthon/mmrotate/data/fair1m2.0/images_train/' + '*crop.tif')) \n",
        "val_tif_size = len(glob('/content/drive/MyDrive/Aiffelthon/mmrotate/data/fair1m2.0/images_val/' + '*.tif')) \\\n",
        "-  len(glob('/content/drive/MyDrive/Aiffelthon/mmrotate/data/fair1m2.0/images_val/' + '*albu.tif')) \\\n",
        "-  len(glob('/content/drive/MyDrive/Aiffelthon/mmrotate/data/fair1m2.0/images_val/' + '*crop.tif'))\n",
        "print(train_tif_size, val_tif_size)"
      ],
      "metadata": {
        "id": "7AnqeGif-o9J"
      },
      "execution_count": null,
      "outputs": []
    },
    {
      "cell_type": "code",
      "source": [
        "train_txt_size = len(glob('/content/drive/MyDrive/Aiffelthon/mmrotate/data/fair1m2.0/train_super/' + '*.txt')) \\\n",
        "- len(glob('/content/drive/MyDrive/Aiffelthon/mmrotate/data/fair1m2.0/train_super/' + '*albu.txt')) \\ \n",
        "- len(glob('/content/drive/MyDrive/Aiffelthon/mmrotate/data/fair1m2.0/train_super/' + '*crop.txt')) \n",
        "val_txt_size = len(glob('/content/drive/MyDrive/Aiffelthon/mmrotate/data/fair1m2.0/val_super/' + '*.txt')) \\\n",
        "-  len(glob('/content/drive/MyDrive/Aiffelthon/mmrotate/data/fair1m2.0/val_super/' + '*albu.txt')) \\\n",
        "-  len(glob('/content/drive/MyDrive/Aiffelthon/mmrotate/data/fair1m2.0/val_super/' + '*crop.txt'))\n",
        "print(train_txt_size, val_txt_size)"
      ],
      "metadata": {
        "id": "frO_3Y9G-o_q"
      },
      "execution_count": null,
      "outputs": []
    },
    {
      "cell_type": "code",
      "source": [
        "train_tif_size = len(glob('/content/drive/MyDrive/Aiffelthon/mmrotate/data/fair1m2.0/images_train/' + 'crop.tif')) \n",
        "val_tif_size = len(glob('/content/drive/MyDrive/Aiffelthon/mmrotate/data/fair1m2.0/images_val/' + 'crop.tif'))\n",
        "print(train_tif_size, val_tif_size)"
      ],
      "metadata": {
        "id": "O2XYKpL5-pBp"
      },
      "execution_count": null,
      "outputs": []
    },
    {
      "cell_type": "code",
      "source": [
        "train_txt_size = len(glob('/content/drive/MyDrive/Aiffelthon/mmrotate/data/fair1m2.0/train_super/' + '*crop.txt'))\n",
        "val_txt_size = len(glob('/content/drive/MyDrive/Aiffelthon/mmrotate/data/fair1m2.0/val_super/' + '*crop.txt'))\n",
        "print(train_txt_size, val_txt_size)"
      ],
      "metadata": {
        "id": "Ph3a0QjP-pDr"
      },
      "execution_count": null,
      "outputs": []
    },
    {
      "cell_type": "code",
      "source": [
        "train_tif_size = len(glob('/content/drive/MyDrive/Aiffelthon/mmrotate/data/fair1m2.0/images_train/' + '*albu.tif')) \n",
        "val_tif_size = len(glob('/content/drive/MyDrive/Aiffelthon/mmrotate/data/fair1m2.0/images_val/' + '*albu.tif'))\n",
        "print(train_tif_size, val_tif_size)"
      ],
      "metadata": {
        "id": "oZln-K28-xpq"
      },
      "execution_count": null,
      "outputs": []
    },
    {
      "cell_type": "code",
      "source": [
        "train_txt_size = len(glob('/content/drive/MyDrive/Aiffelthon/mmrotate/data/fair1m2.0/train_super/' + '*albu.txt'))\n",
        "val_txt_size = len(glob('/content/drive/MyDrive/Aiffelthon/mmrotate/data/fair1m2.0/val_super/' + '*albu.txt'))\n",
        "print(train_txt_size, val_txt_size)"
      ],
      "metadata": {
        "id": "hRNqqWO1-xrx"
      },
      "execution_count": null,
      "outputs": []
    }
  ]
}